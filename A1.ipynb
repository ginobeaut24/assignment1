{
 "cells": [
  {
   "cell_type": "markdown",
   "metadata": {},
   "source": [
    "# <center>CSIS 452 - Applied Machine Learning</center>\n",
    "## Assignment 1 - due: 2/13/2020\n",
    "In this assignment you will develop a program using python to perform basic processing of tweets.  Attached, you will find a text file named <b>apesmovies.txt</b> with tweets about the <b>Planet of the Apes</b> movie.  Each line of the file holds one tweet.  The tweets in the file have additional information that are not relevant to this assignment and will need to be removed.  Once complete, your code will find the number of occurrence of a set of words in the tweets.  \n",
    "\n",
    "You will use incremental development to accomplish this task.  Please implement the code one step at a time; and  thoroughly test that step before moving to the next step.\n",
    "\n",
    "Enter your name as a comment in the cell below"
   ]
  },
  {
   "cell_type": "code",
   "execution_count": 2,
   "metadata": {},
   "outputs": [],
   "source": [
    "#"
   ]
  },
  {
   "cell_type": "markdown",
   "metadata": {},
   "source": [
    "You will first need to load the tweets from the file. To do this, develop a function named <b>load_tweets</b> that takes the name of the file as input and returns a list, where each element of the list is a line of the <b> apesmovies.txt</b> file.  Make sure to use context management for handling the file."
   ]
  },
  {
   "cell_type": "code",
   "execution_count": 3,
   "metadata": {},
   "outputs": [],
   "source": [
    "def load_tweets(fileName):\n",
    "    f = open(fileName,\"r\")\n",
    "    li = list(f)\n",
    "    return li\n",
    "    \n",
    "\n",
    "\n"
   ]
  },
  {
   "cell_type": "markdown",
   "metadata": {},
   "source": [
    "Use the method developed in the last step to load the tweets from the file <b>apesmovies.txt</b> and save the list as <b>tweets_and_more</b>.  Your code should then print the first three tweets in the list."
   ]
  },
  {
   "cell_type": "code",
   "execution_count": 4,
   "metadata": {},
   "outputs": [
    {
     "name": "stdout",
     "output_type": "stream",
     "text": [
      " 2014 07 09 01 00 07 <tweet>#DawnofthePlanetoftheApes - Movie Reviews, Movie Rating, Trailers, Posters | MovieMagik http://t.co/lYSGCB8jXR via @moviemagikin</tweet> <pos>vvi vvi n2 - uh vvz , vvi vvg , n2 , n2 sy n1 n1 n1 c-acp fw-fr zz sy sy crd crd sy fw-la n1</pos> <lemmas>dawnofthe planetofthe ape - movie review , movie rate , trailer , poster | movie magik htthappy// t.co/l y s g c b8j x r via @moviemagikin</lemmas> 1 1 0 1 0 0 0 0 0 0 0 0 0 0 0 1 0 0 0 0 0 0 1 0 128 0 0 0 0 0 0 0 0 0 0 0 0 0 0 0 0 0 0 0 0 0 0 0 0 0 0 1 0 0 0 0 0 0 0 0 0 0 0 0 0 0 0 0 0 0 0 0 0 0 0 0 1 0 0 0 0 1 0 0 0 1 0 0 0 0 0 0 0 0 0 0 0 0 0 0 0 0 0 0 0 0 0 0 0 0 0 0 0 0 0 0 0 0 0 0 0 0 0 0 0 0 1 0 0 0 0 0 0 0 0 0 0 0 0 0 0 0 0 0 0 0 0 0 0 0 0 0 0 0 0 0 0 0 0 0 0 0 0 0 0 0 0 0 0 0 0 0 0 0 0 0 0 0 0 0 0 0 0 0 0 1 1 0 0 0 0 0 0 0 0 0 0 0 0 0 0 0 0 0 0 0 0 0 0 0 0 0 0 0 0 0 0 0 0 0 0 0 0 0 0 0 0 0 0 0 0 0 0 0 0 0 0 0 0 0 0 0 0 0 0 0 0 0 0 0 0 0 0 0 0 0 0 0 0 0 0 0 0 0 0 0 0 0 0 0 0 0 0 0 0 0 0 0 0 0 0 0 0 0 0 0 0 0 0 0 0 0 0 0 0 0 0 0 0 0 0 0 0 0 0 0 0 0 0 0 0 0 0 0 0 0 0 0 0 0 0 0 0 0 0 0 0 0 0 0 0 0 0 0 0 0 0 0 0 0 0 0 0 0 0 0 0 0 0 0 0 0 0 0 0 0 0 0 0 0 0 0 0 0 0 0 0 0 0 0 0 0 0 0 0 0 0 0 0 0 0 0 0 0 0 0 0 0 0 0 0 5 1 0 0\n",
      "\n",
      " 2014 07 09 01 15 11 <tweet>Saw the new Planet of the Apes.  Best one since the original with way better effects!  #DawnofthePlanetoftheApes</tweet> <pos>vvd dt j n1 pp-f dt n2 . av-js pi c-acp dt n-jn pp n1 jc n2 ! np1</pos> <lemmas>saw the new Planet of the apes . best one since the original with way good effect ! #DawnofthePlanetoftheApes</lemmas> 0 0 0 1 0 0 0 0 0 0 0 0 0 0 0 0 0 0 0 0 0 0 0 0 112 1 0 1 0 0 0 1 1 0 0 1 0 0 0 0 0 0 1 0 0 0 0 0 0 0 0 0 0 0 0 0 0 0 0 0 0 0 0 0 0 0 0 0 0 1 0 0 1 0 0 1 0 0 0 0 0 0 0 0 0 0 0 0 0 0 0 0 0 0 0 0 0 0 0 0 0 0 0 0 0 0 0 0 0 0 0 1 0 1 0 0 0 0 0 0 0 0 0 0 1 0 0 0 0 0 0 0 0 0 0 0 0 0 0 0 0 0 0 0 0 0 0 0 0 0 0 0 0 0 0 0 0 0 0 0 0 0 0 0 0 0 0 0 0 0 0 0 0 0 0 0 0 0 0 0 0 0 0 0 0 1 1 0 0 0 0 0 0 0 1 0 0 0 0 0 0 1 0 0 0 1 1 0 0 0 0 0 0 0 0 0 0 0 0 0 0 0 0 0 0 0 0 0 0 0 0 0 0 0 0 0 0 0 0 0 0 0 0 0 0 0 0 0 0 0 0 0 0 0 0 0 0 0 0 0 0 0 0 0 0 0 0 0 0 0 0 0 0 0 0 0 0 0 0 0 0 0 0 0 0 0 0 0 0 0 0 0 0 0 0 0 0 0 0 0 0 0 0 0 0 0 0 0 0 0 0 0 0 0 0 0 0 0 0 0 0 0 0 0 0 0 0 0 0 0 0 0 0 0 0 0 0 0 0 0 0 0 0 0 0 0 0 0 0 0 0 0 0 0 0 0 0 0 0 0 0 0 0 0 0 0 0 0 0 0 0 0 0 0 0 0 0 0 0 0 0 0 0 0 0 0 0 0 0 5 0 10 0 1 5\n",
      "\n",
      " 2014 07 09 01 15 21 <tweet>I could say I'm watching Planet of the Apes (1968) as a countdown to #DawnofthePlanetoftheApes - but really, I could watch it any time.</tweet> <pos>pns11 vmd vvi pns11|vbm vvg n1 pp-f dt n2 ( crd ) p-acp dt j p-acp np1 - cc-acp av-j , pns11 vmd vvi pn31 d n1 .</pos> <lemmas>I can say i'm watch Planet of the apes ( 1968 ) as a countdown to #DawnofthePlanetoftheApes - but real , I can watch it any time .</lemmas> 0 0 0 1 1 0 0 0 0 0 0 0 0 0 0 0 0 0 0 0 0 0 0 0 135 1 0 1 0 0 0 1 0 0 0 0 0 0 0 0 0 0 1 0 1 1 0 0 0 0 0 0 0 0 0 0 0 0 0 0 0 0 0 0 0 0 0 0 0 1 0 0 0 0 0 1 0 0 0 0 0 0 0 0 0 0 0 0 0 0 0 0 0 0 0 0 0 0 0 0 0 0 0 0 0 0 0 0 0 0 0 0 0 0 0 0 0 1 0 0 0 0 0 0 0 0 0 0 0 0 0 1 0 0 0 0 0 0 0 0 0 1 0 0 0 0 0 0 0 0 0 0 0 0 0 0 0 0 0 0 1 1 0 0 0 0 0 0 0 0 0 0 0 0 0 0 0 0 0 0 0 0 0 0 0 0 0 0 0 0 0 0 0 0 0 0 0 0 0 0 0 0 0 0 0 0 0 0 0 0 0 0 0 0 0 0 0 0 0 0 0 0 0 0 0 0 0 0 0 0 0 0 0 0 0 0 0 0 0 0 0 0 0 0 0 0 0 0 0 0 0 0 0 0 0 0 0 0 0 0 0 0 0 0 0 0 0 0 0 0 0 0 0 0 0 0 0 0 0 0 0 0 0 0 0 0 0 0 0 0 0 0 0 0 0 0 0 0 0 0 0 0 0 0 0 0 0 0 0 0 0 0 0 0 0 0 0 0 0 0 0 0 0 0 0 0 0 0 0 0 0 0 0 0 0 0 0 0 0 0 0 0 0 0 0 0 0 0 0 0 0 0 0 0 0 0 0 0 0 0 0 0 0 0 0 0 0 0 0 0 0 0 0 0 0 0 0 0 0 0 0 0 0 0 0 0 0 0 0 0 0 10 0 2 0\n",
      "\n"
     ]
    }
   ],
   "source": [
    "tweets_and_more = load_tweets(\"apesmovies.txt\")\n",
    "for x in range(3):\n",
    "    print(tweets_and_more[x])"
   ]
  },
  {
   "cell_type": "markdown",
   "metadata": {},
   "source": [
    "## Expected output\n",
    "\n",
    "2014 07 09 01 00 07 <tweet>#DawnofthePlanetoftheApes - Movie Reviews, Movie Rating, Trailers, Posters | MovieMagik http://t.co/lYSGCB8jXR via @moviemagikin</tweet> <pos>vvi vvi n2 - uh vvz , vvi vvg , n2 , n2 sy n1 n1 n1 c-acp fw-fr zz sy sy crd crd sy fw-la n1</pos> <lemmas>dawnofthe planetofthe ape - movie review , movie rate , trailer , poster | movie magik htthappy// t.co/l y s g c b8j x r via @moviemagikin</lemmas> 1 1 0 1 0 0 0 0 0 0 0 0 0 0 0 1 0 0 0 0 0 0 1 0 128 0 0 0 0 0 0 0 0 0 0 0 0 0 0 0 0 0 0 0 0 0 0 0 0 0 0 1 0 0 0 0 0 0 0 0 0 0 0 0 0 0 0 0 0 0 0 0 0 0 0 0 1 0 0 0 0 1 0 0 0 1 0 0 0 0 0 0 0 0 0 0 0 0 0 0 0 0 0 0 0 0 0 0 0 0 0 0 0 0 0 0 0 0 0 0 0 0 0 0 0 0 1 0 0 0 0 0 0 0 0 0 0 0 0 0 0 0 0 0 0 0 0 0 0 0 0 0 0 0 0 0 0 0 0 0 0 0 0 0 0 0 0 0 0 0 0 0 0 0 0 0 0 0 0 0 0 0 0 0 0 1 1 0 0 0 0 0 0 0 0 0 0 0 0 0 0 0 0 0 0 0 0 0 0 0 0 0 0 0 0 0 0 0 0 0 0 0 0 0 0 0 0 0 0 0 0 0 0 0 0 0 0 0 0 0 0 0 0 0 0 0 0 0 0 0 0 0 0 0 0 0 0 0 0 0 0 0 0 0 0 0 0 0 0 0 0 0 0 0 0 0 0 0 0 0 0 0 0 0 0 0 0 0 0 0 0 0 0 0 0 0 0 0 0 0 0 0 0 0 0 0 0 0 0 0 0 0 0 0 0 0 0 0 0 0 0 0 0 0 0 0 0 0 0 0 0 0 0 0 0 0 0 0 0 0 0 0 0 0 0 0 0 0 0 0 0 0 0 0 0 0 0 0 0 0 0 0 0 0 0 0 0 0 0 0 0 0 0 0 0 0 0 0 0 0 0 0 0 0 0 0 0 0 0 0 0 5 1 0 0\n",
    "\n",
    " 2014 07 09 01 15 11 <tweet>Saw the new Planet of the Apes.  Best one since the original with way better effects!  #DawnofthePlanetoftheApes</tweet> <pos>vvd dt j n1 pp-f dt n2 . av-js pi c-acp dt n-jn pp n1 jc n2 ! np1</pos> <lemmas>saw the new Planet of the apes . best one since the original with way good effect ! #DawnofthePlanetoftheApes</lemmas> 0 0 0 1 0 0 0 0 0 0 0 0 0 0 0 0 0 0 0 0 0 0 0 0 112 1 0 1 0 0 0 1 1 0 0 1 0 0 0 0 0 0 1 0 0 0 0 0 0 0 0 0 0 0 0 0 0 0 0 0 0 0 0 0 0 0 0 0 0 1 0 0 1 0 0 1 0 0 0 0 0 0 0 0 0 0 0 0 0 0 0 0 0 0 0 0 0 0 0 0 0 0 0 0 0 0 0 0 0 0 0 1 0 1 0 0 0 0 0 0 0 0 0 0 1 0 0 0 0 0 0 0 0 0 0 0 0 0 0 0 0 0 0 0 0 0 0 0 0 0 0 0 0 0 0 0 0 0 0 0 0 0 0 0 0 0 0 0 0 0 0 0 0 0 0 0 0 0 0 0 0 0 0 0 0 1 1 0 0 0 0 0 0 0 1 0 0 0 0 0 0 1 0 0 0 1 1 0 0 0 0 0 0 0 0 0 0 0 0 0 0 0 0 0 0 0 0 0 0 0 0 0 0 0 0 0 0 0 0 0 0 0 0 0 0 0 0 0 0 0 0 0 0 0 0 0 0 0 0 0 0 0 0 0 0 0 0 0 0 0 0 0 0 0 0 0 0 0 0 0 0 0 0 0 0 0 0 0 0 0 0 0 0 0 0 0 0 0 0 0 0 0 0 0 0 0 0 0 0 0 0 0 0 0 0 0 0 0 0 0 0 0 0 0 0 0 0 0 0 0 0 0 0 0 0 0 0 0 0 0 0 0 0 0 0 0 0 0 0 0 0 0 0 0 0 0 0 0 0 0 0 0 0 0 0 0 0 0 0 0 0 0 0 0 0 0 0 0 0 0 0 0 0 0 0 0 0 0 0 5 0 10 0 1 5\n",
    "\n",
    " 2014 07 09 01 15 21 <tweet>I could say I'm watching Planet of the Apes (1968) as a countdown to #DawnofthePlanetoftheApes - but really, I could watch it any time.</tweet> <pos>pns11 vmd vvi pns11|vbm vvg n1 pp-f dt n2 ( crd ) p-acp dt j p-acp np1 - cc-acp av-j , pns11 vmd vvi pn31 d n1 .</pos> <lemmas>I can say i'm watch Planet of the apes ( 1968 ) as a countdown to #DawnofthePlanetoftheApes - but real , I can watch it any time .</lemmas> 0 0 0 1 1 0 0 0 0 0 0 0 0 0 0 0 0 0 0 0 0 0 0 0 135 1 0 1 0 0 0 1 0 0 0 0 0 0 0 0 0 0 1 0 1 1 0 0 0 0 0 0 0 0 0 0 0 0 0 0 0 0 0 0 0 0 0 0 0 1 0 0 0 0 0 1 0 0 0 0 0 0 0 0 0 0 0 0 0 0 0 0 0 0 0 0 0 0 0 0 0 0 0 0 0 0 0 0 0 0 0 0 0 0 0 0 0 1 0 0 0 0 0 0 0 0 0 0 0 0 0 1 0 0 0 0 0 0 0 0 0 1 0 0 0 0 0 0 0 0 0 0 0 0 0 0 0 0 0 0 1 1 0 0 0 0 0 0 0 0 0 0 0 0 0 0 0 0 0 0 0 0 0 0 0 0 0 0 0 0 0 0 0 0 0 0 0 0 0 0 0 0 0 0 0 0 0 0 0 0 0 0 0 0 0 0 0 0 0 0 0 0 0 0 0 0 0 0 0 0 0 0 0 0 0 0 0 0 0 0 0 0 0 0 0 0 0 0 0 0 0 0 0 0 0 0 0 0 0 0 0 0 0 0 0 0 0 0 0 0 0 0 0 0 0 0 0 0 0 0 0 0 0 0 0 0 0 0 0 0 0 0 0 0 0 0 0 0 0 0 0 0 0 0 0 0 0 0 0 0 0 0 0 0 0 0 0 0 0 0 0 0 0 0 0 0 0 0 0 0 0 0 0 0 0 0 0 0 0 0 0 0 0 0 0 0 0 0 0 0 0 0 0 0 0 0 0 0 0 0 0 0 0 0 0 0 0 0 0 0 0 0 0 0 0 0 0 0 0 0 0 0 0 0 0 0 0 0 0 0 0 10 0 2 0"
   ]
  },
  {
   "cell_type": "markdown",
   "metadata": {},
   "source": [
    "Your code should next find the number of tweets in the file"
   ]
  },
  {
   "cell_type": "code",
   "execution_count": 5,
   "metadata": {},
   "outputs": [
    {
     "name": "stdout",
     "output_type": "stream",
     "text": [
      "5823\n"
     ]
    }
   ],
   "source": [
    "print(len(tweets_and_more))"
   ]
  },
  {
   "cell_type": "markdown",
   "metadata": {},
   "source": [
    "## Expected output\n",
    "5823"
   ]
  },
  {
   "cell_type": "markdown",
   "metadata": {},
   "source": [
    "In addition to the tweets, the lines of the <b>apesmovies.txt</b> have additional information that need to be removed.  To do this, you will first develop a function that given an element of the <b>tweet_and_more list</b>, it would extract and return the tweet.  Note that tweets are enclosed in the markups <b>&lt; tweet&gt;</b> and <b>&lt; /tweet&gt;</b>.  \n",
    "\n",
    "<b>HINT:</b> Use the python's index function to identify the index of <b>&lt; tweet&gt;</b> and <b>&lt; /tweet&gt;</b>"
   ]
  },
  {
   "cell_type": "code",
   "execution_count": 6,
   "metadata": {},
   "outputs": [],
   "source": [
    "def extract_tweet(element):\n",
    "    index1 = element.index(\"<tweet>\")\n",
    "    index2 = element.index(\"</tweet>\")\n",
    "    return element[index1+7:index2]"
   ]
  },
  {
   "cell_type": "markdown",
   "metadata": {},
   "source": [
    "Use the <b>extract_tweet</b> function of the last step to extract and print the tweet from the first tweet in <b>tweets_and_more</b>"
   ]
  },
  {
   "cell_type": "code",
   "execution_count": 7,
   "metadata": {},
   "outputs": [
    {
     "name": "stdout",
     "output_type": "stream",
     "text": [
      "#DawnofthePlanetoftheApes - Movie Reviews, Movie Rating, Trailers, Posters | MovieMagik http://t.co/lYSGCB8jXR via @moviemagikin\n"
     ]
    }
   ],
   "source": [
    "x = extract_tweet(tweets_and_more[0])\n",
    "print(x)"
   ]
  },
  {
   "cell_type": "markdown",
   "metadata": {},
   "source": [
    "## Expected output\n",
    "#DawnofthePlanetoftheApes - Movie Reviews, Movie Rating, Trailers, Posters | MovieMagik http://t.co/lYSGCB8jXR via @moviemagikin"
   ]
  },
  {
   "cell_type": "markdown",
   "metadata": {},
   "source": [
    "Using list comprehension to extract all the tweets in the <b>tweets_and_more</b> list and save them in another list called <b>tweets</b>.  Print the length of the resulting list.  Also, print the first three elements of the new list."
   ]
  },
  {
   "cell_type": "code",
   "execution_count": 8,
   "metadata": {},
   "outputs": [
    {
     "name": "stdout",
     "output_type": "stream",
     "text": [
      "5823 \n",
      "\n",
      "#DawnofthePlanetoftheApes - Movie Reviews, Movie Rating, Trailers, Posters | MovieMagik http://t.co/lYSGCB8jXR via @moviemagikin \n",
      "\n",
      "Saw the new Planet of the Apes.  Best one since the original with way better effects!  #DawnofthePlanetoftheApes \n",
      "\n",
      "I could say I'm watching Planet of the Apes (1968) as a countdown to #DawnofthePlanetoftheApes - but really, I could watch it any time.\n"
     ]
    }
   ],
   "source": [
    "tweets_and_more = list(load_tweets('apesmovies.txt'))\n",
    "tweets = [extract_tweet(x) for x in tweets_and_more]\n",
    "print(len(tweets), \"\\n\")\n",
    "print(tweets[0], \"\\n\")\n",
    "print(tweets[1], \"\\n\")\n",
    "print(tweets[2])"
   ]
  },
  {
   "cell_type": "markdown",
   "metadata": {},
   "source": [
    "## Expected output\n",
    "5823\n",
    "#DawnofthePlanetoftheApes - Movie Reviews, Movie Rating, Trailers, Posters | MovieMagik http://t.co/lYSGCB8jXR via @moviemagikin\n",
    "\n",
    "Saw the new Planet of the Apes.  Best one since the original with way better effects!  #DawnofthePlanetoftheApes\n",
    "\n",
    "I could say I'm watching Planet of the Apes (1968) as a countdown to #DawnofthePlanetoftheApes - but really, I could watch it any time."
   ]
  },
  {
   "cell_type": "markdown",
   "metadata": {},
   "source": [
    "Now develop a function called <b>count_this_word_in_this_tweet</b> that takes as input a tweet and a word and it would return the number of times the word occurs in the tweet.  Your function should be case-insensitive.  \n",
    "\n",
    "<b>HINT:</b> Use the split and count methods of python strings."
   ]
  },
  {
   "cell_type": "code",
   "execution_count": 13,
   "metadata": {},
   "outputs": [
    {
     "name": "stdout",
     "output_type": "stream",
     "text": [
      "#DawnofthePlanetoftheApes - Movie Reviews, Movie Rating, Trailers, Posters | MovieMagik http://t.co/lYSGCB8jXR via @moviemagikin\n",
      "3\n"
     ]
    }
   ],
   "source": [
    "\n",
    "\n",
    "\n",
    "\n",
    "\n"
   ]
  },
  {
   "cell_type": "markdown",
   "metadata": {},
   "source": [
    "Use the function developed in the last step to find and print the number of occurrence of the word <b> movie</b> in in the first tweet in the list"
   ]
  },
  {
   "cell_type": "code",
   "execution_count": 56,
   "metadata": {},
   "outputs": [
    {
     "ename": "TypeError",
     "evalue": "'int' object is not subscriptable",
     "output_type": "error",
     "traceback": [
      "\u001b[0;31m---------------------------------------------------------------------------\u001b[0m",
      "\u001b[0;31mTypeError\u001b[0m                                 Traceback (most recent call last)",
      "\u001b[0;32m<ipython-input-56-2e0d08684c2e>\u001b[0m in \u001b[0;36m<module>\u001b[0;34m\u001b[0m\n\u001b[0;32m----> 1\u001b[0;31m \u001b[0mprint\u001b[0m\u001b[0;34m(\u001b[0m\u001b[0mcount_this_word_in_this_tweet\u001b[0m\u001b[0;34m[\u001b[0m\u001b[0;36m0\u001b[0m\u001b[0;34m]\u001b[0m\u001b[0;34m)\u001b[0m\u001b[0;34m\u001b[0m\u001b[0;34m\u001b[0m\u001b[0m\n\u001b[0m",
      "\u001b[0;31mTypeError\u001b[0m: 'int' object is not subscriptable"
     ]
    }
   ],
   "source": [
    "print(count_this_word_in_this_tweet)"
   ]
  },
  {
   "cell_type": "markdown",
   "metadata": {},
   "source": [
    "## Expected output\n",
    "2"
   ]
  },
  {
   "cell_type": "markdown",
   "metadata": {},
   "source": [
    "Now develop a function called <b>count_this_word_in_all_tweets</b> that takes as arguments a list of tweets and a word and it would find the number of occurrence of the word in all tweets in the list.  The function should use list comprehension and the function <b>count_this_word_in_this_tweet</b> defined earlier to accomplish  its task. "
   ]
  },
  {
   "cell_type": "code",
   "execution_count": null,
   "metadata": {
    "collapsed": true
   },
   "outputs": [],
   "source": []
  },
  {
   "cell_type": "markdown",
   "metadata": {},
   "source": [
    "Use the function developed in the last step to find and print the number of occurrence of the word <b> movie</b> in in all the tweets in the list"
   ]
  },
  {
   "cell_type": "code",
   "execution_count": null,
   "metadata": {},
   "outputs": [],
   "source": []
  },
  {
   "cell_type": "markdown",
   "metadata": {},
   "source": [
    "## Expected output\n",
    "156"
   ]
  },
  {
   "cell_type": "markdown",
   "metadata": {},
   "source": [
    "Now develop a function called <b>count_these_words_in_all_tweets</b> that would take as its arguments a list of tweets and a variable argument list called <b>words</b>.  Your function should then use dictionary comprehension to create a dictionary of words (key) and their corresponding counts (value).  "
   ]
  },
  {
   "cell_type": "code",
   "execution_count": null,
   "metadata": {
    "collapsed": true
   },
   "outputs": [],
   "source": []
  },
  {
   "cell_type": "markdown",
   "metadata": {},
   "source": [
    "Use the function developed in the last problem on the words list:\n",
    "<b>words = [\"movie\", \"fun\", \"best\", \":)\"]</b>. Save the returned dictionary in the <b>word_count_dict</b> and then print it."
   ]
  },
  {
   "cell_type": "code",
   "execution_count": null,
   "metadata": {},
   "outputs": [],
   "source": []
  },
  {
   "cell_type": "markdown",
   "metadata": {},
   "source": [
    "## Expected output\n",
    "{'movie': 156, 'fun': 4, 'best': 87, ':)': 28}"
   ]
  },
  {
   "cell_type": "markdown",
   "metadata": {},
   "source": [
    "Save the <b>word_count_dict</b> in a pickle file called <b>tweet_word_count.pickle</b>.  Be sure to use context management for handling files."
   ]
  },
  {
   "cell_type": "code",
   "execution_count": null,
   "metadata": {
    "collapsed": true
   },
   "outputs": [],
   "source": []
  },
  {
   "cell_type": "markdown",
   "metadata": {},
   "source": [
    "Finally, load and display the dictionary saved in the file <b>tweet_word_count.pickle</b>.  Be sure to use context management for handling files."
   ]
  },
  {
   "cell_type": "code",
   "execution_count": null,
   "metadata": {},
   "outputs": [],
   "source": []
  },
  {
   "cell_type": "markdown",
   "metadata": {},
   "source": [
    "## Expected output\n",
    "{'movie': 156, 'fun': 4, 'best': 87, ':)': 28}"
   ]
  }
 ],
 "metadata": {
  "kernelspec": {
   "display_name": "Python 3",
   "language": "python",
   "name": "python3"
  },
  "language_info": {
   "codemirror_mode": {
    "name": "ipython",
    "version": 3
   },
   "file_extension": ".py",
   "mimetype": "text/x-python",
   "name": "python",
   "nbconvert_exporter": "python",
   "pygments_lexer": "ipython3",
   "version": "3.7.4"
  }
 },
 "nbformat": 4,
 "nbformat_minor": 2
}
